{
 "cells": [
  {
   "cell_type": "code",
   "execution_count": null,
   "metadata": {
    "collapsed": false
   },
   "outputs": [],
   "source": [
    "import nengo\n",
    "import numpy as np\n",
    "%matplotlib inline\n",
    "import matplotlib.pyplot as plt\n",
    "\n",
    "import nengo_deeplearning.backends.theano.optimizers as opt\n",
    "from nengo_deeplearning.backends.theano.networks import RNN\n",
    "from nengo_deeplearning.backends.theano.layers import Generic, GatedRecurrent, Dense\n",
    "from nengo_deeplearning.inputs.mnist import load_mnist"
   ]
  },
  {
   "cell_type": "code",
   "execution_count": null,
   "metadata": {
    "collapsed": false
   },
   "outputs": [],
   "source": [
    "trX, teX, trY, teY = load_mnist(data_dir='.')  # Will download to data_dir if they don't exist"
   ]
  },
  {
   "cell_type": "code",
   "execution_count": null,
   "metadata": {
    "collapsed": false
   },
   "outputs": [],
   "source": [
    "# RNN processes a size 28 vector at a time scanning from left to right \n",
    "layers = [\n",
    "    Generic(size=28),\n",
    "    GatedRecurrent(size=512, p_drop=0.2),\n",
    "    Dense(size=10, activation='softmax', p_drop=0.5)\n",
    "]\n",
    "\n",
    "# A bit of l2 helps with generalization, higher momentum helps convergence\n",
    "optimizer = opt.NAG(momentum=0.95, regularizer=opt.Regularizer(l2=1e-4))\n",
    "\n",
    "# Linear iterator for real valued data, cce cost for softmax\n",
    "model = RNN(layers=layers, optimizer=optimizer, iterator='linear', cost='mse')\n",
    "model.fit(trX, trY, n_epochs=10)\n",
    "\n",
    "tr_preds = model.predict(trX[:len(teY)])\n",
    "te_preds = model.predict(teX)\n",
    "\n",
    "tr_acc = np.mean(np.argmax(trY[:len(teY)], axis=1) == np.argmax(tr_preds, axis=1))\n",
    "te_acc = np.mean(np.argmax(teY, axis=1) == np.argmax(te_preds, axis=1))\n",
    "\n",
    "print \"  ====== Results ======\"\n",
    "print \"Train accuracy %s\\tTest accuracy %s\" % (tr_acc, te_acc)"
   ]
  }
 ],
 "metadata": {
  "kernelspec": {
   "display_name": "Python 2",
   "language": "python",
   "name": "python2"
  },
  "language_info": {
   "codemirror_mode": {
    "name": "ipython",
    "version": 2
   },
   "file_extension": ".py",
   "mimetype": "text/x-python",
   "name": "python",
   "nbconvert_exporter": "python",
   "pygments_lexer": "ipython2",
   "version": "2.7.10"
  }
 },
 "nbformat": 4,
 "nbformat_minor": 0
}

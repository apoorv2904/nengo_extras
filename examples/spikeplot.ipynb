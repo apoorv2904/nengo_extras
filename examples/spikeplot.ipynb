{
 "metadata": {
  "kernelspec": {
   "display_name": "nengodev",
   "language": "python",
   "name": "nengodev"
  },
  "language_info": {
   "codemirror_mode": {
    "name": "ipython",
    "version": 3
   },
   "file_extension": ".py",
   "mimetype": "text/x-python",
   "name": "python",
   "nbconvert_exporter": "python",
   "pygments_lexer": "ipython3",
   "version": "3.5.2"
  },
  "name": "",
  "widgets": {
   "state": {
    "29d5772dc4cf4de8af013355c6272c20": {
     "views": [
      {
       "cell_index": 5
      }
     ]
    },
    "8631b3bb2eb14e83a7b5b6d18a3b58e1": {
     "views": [
      {
       "cell_index": 5
      }
     ]
    },
    "8b4e9719be494615a67843fe374d8af3": {
     "views": [
      {
       "cell_index": 5
      }
     ]
    },
    "95a4addc67e3468aa40162859539c3c9": {
     "views": [
      {
       "cell_index": 5
      }
     ]
    },
    "b0761cb1c7964fdca081a14710a7c071": {
     "views": [
      {
       "cell_index": 3
      }
     ]
    },
    "b59cd918391345c1a62f27061d5f260c": {
     "views": [
      {
       "cell_index": 3
      }
     ]
    },
    "d54741e4e54c4df291aa9298e7f1784b": {
     "views": [
      {
       "cell_index": 3
      }
     ]
    },
    "fa4979abd4a1447dac66c416fa078e2d": {
     "views": [
      {
       "cell_index": 3
      }
     ]
    }
   },
   "version": "1.2.0"
  }
 },
 "nbformat": 3,
 "nbformat_minor": 0,
 "worksheets": [
  {
   "cells": [
    {
     "cell_type": "markdown",
     "metadata": {},
     "source": [
      "# Creating spike raster plots\n",
      "\n",
      "This example demonstrates how spike raster plots can be easily created with nengo_extras."
     ]
    },
    {
     "cell_type": "code",
     "collapsed": false,
     "input": [
      "%matplotlib inline\n",
      "%load_ext nengo.ipynb"
     ],
     "language": "python",
     "metadata": {},
     "outputs": [],
     "prompt_number": 1
    },
    {
     "cell_type": "code",
     "collapsed": false,
     "input": [
      "import nengo\n",
      "from nengo_extras.spikeplot import cluster, merge, plot_spikes, preprocess_spikes, sample_by_variance\n",
      "import numpy as np"
     ],
     "language": "python",
     "metadata": {},
     "outputs": [],
     "prompt_number": 2
    },
    {
     "cell_type": "heading",
     "level": 1,
     "metadata": {},
     "source": [
      "Build and run a model"
     ]
    },
    {
     "cell_type": "code",
     "collapsed": false,
     "input": [
      "with nengo.Network(seed=1) as model:\n",
      "    inp = nengo.Node(lambda t: [np.sin(t), np.cos(t)])\n",
      "    ens = nengo.Ensemble(500, 2)\n",
      "    nengo.Connection(inp, ens)\n",
      "    \n",
      "    p = nengo.Probe(ens, synapse=0.01)\n",
      "    p_spikes = nengo.Probe(ens.neurons, 'spikes')"
     ],
     "language": "python",
     "metadata": {},
     "outputs": [],
     "prompt_number": 3
    },
    {
     "cell_type": "code",
     "collapsed": true,
     "input": [
      "with nengo.Simulator(model) as sim:\n",
      "    sim.run(5.)"
     ],
     "language": "python",
     "metadata": {},
     "outputs": [],
     "prompt_number": 4
    },
    {
     "cell_type": "markdown",
     "metadata": {},
     "source": [
      "# Simple spike raster plot\n",
      "\n",
      "We can use the ``plot_spikes`` function to create a simple spike raster plot."
     ]
    },
    {
     "cell_type": "code",
     "collapsed": false,
     "input": [
      "plt.figure()\n",
      "\n",
      "plt.subplot(2, 1, 1)\n",
      "plt.plot(sim.trange(), sim.data[p])\n",
      "\n",
      "plt.subplot(2, 1, 2)\n",
      "plot_spikes(sim.trange(), sim.data[p_spikes])\n",
      "plt.xlabel(\"Time [s]\")\n",
      "plt.ylabel(\"Neuron number\")"
     ],
     "language": "python",
     "metadata": {},
     "outputs": [],
     "prompt_number": 5
    },
    {
     "cell_type": "markdown",
     "metadata": {},
     "source": [
      "# Improved plot\n",
      "\n",
      "We can create a more informative plot with some preprocessing of the spike trains to subsample interesting ones and sort them by similarity. A basic default preprocessing can be done with the `preprocess_spikes` function."
     ]
    },
    {
     "cell_type": "code",
     "collapsed": false,
     "input": [
      "plt.figure()\n",
      "\n",
      "plt.subplot(2, 1, 1)\n",
      "plt.plot(sim.trange(), sim.data[p])\n",
      "\n",
      "plt.subplot(2, 1, 2)\n",
      "plot_spikes(*preprocess_spikes(sim.trange(), sim.data[p_spikes]))\n",
      "plt.xlabel(\"Time [s]\")\n",
      "plt.ylabel(\"Neuron number\")"
     ],
     "language": "python",
     "metadata": {},
     "outputs": [],
     "prompt_number": 6
    },
    {
     "cell_type": "markdown",
     "metadata": {},
     "source": [
      "There are some arguments that can be passed to `preprocess_spikes` for fine tuning. But sometimes it is necessary to change what things are done during the preprocessing. The `nengo_extras.spikeplot` module provides a number of lower level functions to construct specific preprocessing pipelines. This example recreates what `preprocess_spikes` does:"
     ]
    },
    {
     "cell_type": "code",
     "collapsed": false,
     "input": [
      "plt.figure()\n",
      "\n",
      "plt.subplot(2, 1, 1)\n",
      "plt.plot(sim.trange(), sim.data[p])\n",
      "\n",
      "plt.subplot(2, 1, 2)\n",
      "plot_spikes(\n",
      "    *merge(\n",
      "        *cluster(\n",
      "            *sample_by_variance(\n",
      "                sim.trange(), sim.data[p_spikes],\n",
      "                num=200, filter_width=.02),\n",
      "            filter_width=.002),\n",
      "        num=50))\n",
      "plt.xlabel(\"Time [s]\")\n",
      "plt.ylabel(\"Neuron number\")"
     ],
     "language": "python",
     "metadata": {},
     "outputs": [],
     "prompt_number": 7
    }
   ],
   "metadata": {}
  }
 ]
}

